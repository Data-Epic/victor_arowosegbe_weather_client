{
 "cells": [
  {
   "cell_type": "code",
   "execution_count": 14,
   "metadata": {},
   "outputs": [],
   "source": [
    "import weather_client as wea"
   ]
  },
  {
   "cell_type": "markdown",
   "metadata": {},
   "source": [
    "#### Status Function Test"
   ]
  },
  {
   "cell_type": "code",
   "execution_count": 15,
   "metadata": {},
   "outputs": [
    {
     "name": "stdout",
     "output_type": "stream",
     "text": [
      "Success!\n",
      "City Name: Abuja\n",
      "Temperature: 23.08celcius\n",
      "Weather Description : Clouds, overcast clouds\n",
      "Humidity level: 95g/kg\n",
      "Wind Speed: 0.74m/s\n"
     ]
    }
   ],
   "source": [
    "wea.weather_status('Abuja')"
   ]
  },
  {
   "cell_type": "markdown",
   "metadata": {},
   "source": [
    "#### Forecast Function Test"
   ]
  },
  {
   "cell_type": "code",
   "execution_count": 16,
   "metadata": {},
   "outputs": [
    {
     "name": "stdout",
     "output_type": "stream",
     "text": [
      "Success!\n",
      "City Name: Abu Dhabi\n",
      "Date: 2024-09-12 06:00:00\n",
      "Temperature: 35.19celcius\n",
      "Weather Description : Clear, clear sky\n",
      "Humidity level: 39g/kg\n",
      "Wind Speed: 3.55m/s\n"
     ]
    }
   ],
   "source": [
    "wea.weather_forecast('Abu Dhabi')"
   ]
  },
  {
   "cell_type": "markdown",
   "metadata": {},
   "source": [
    "#### Multiple Weather Status Function Test"
   ]
  },
  {
   "cell_type": "code",
   "execution_count": 17,
   "metadata": {},
   "outputs": [
    {
     "name": "stdout",
     "output_type": "stream",
     "text": [
      "Success!\n",
      "City Name: Oman\n",
      "Temperature: 39.68celcius\n",
      "Weather Description : Clear, clear sky\n",
      "Humidity level: 23g/kg\n",
      "Wind Speed: 3.06m/s\n",
      "None\n",
      "Success!\n",
      "City Name: Republic of Kosovo\n",
      "Temperature: 24.94celcius\n",
      "Weather Description : Clouds, overcast clouds\n",
      "Humidity level: 56g/kg\n",
      "Wind Speed: 0.65m/s\n",
      "None\n"
     ]
    }
   ],
   "source": [
    "wea.mul_cities_weather_status(['Oman','Kosovo'])"
   ]
  },
  {
   "cell_type": "markdown",
   "metadata": {},
   "source": [
    "#### Multiple Weather Forecast Function Test"
   ]
  },
  {
   "cell_type": "code",
   "execution_count": 18,
   "metadata": {},
   "outputs": [
    {
     "name": "stdout",
     "output_type": "stream",
     "text": [
      "Success!\n",
      "City Name: Lomé\n",
      "Date: 2024-09-12 06:00:00\n",
      "Temperature: 23.96celcius\n",
      "Weather Description : Clouds, broken clouds\n",
      "Humidity level: 85g/kg\n",
      "Wind Speed: 4.49m/s\n",
      "None\n",
      "Success!\n",
      "City Name: Accra\n",
      "Date: 2024-09-12 06:00:00\n",
      "Temperature: 23.01celcius\n",
      "Weather Description : Clouds, broken clouds\n",
      "Humidity level: 87g/kg\n",
      "Wind Speed: 3.88m/s\n",
      "None\n",
      "Success!\n",
      "City Name: Johannesburg\n",
      "Date: 2024-09-12 06:00:00\n",
      "Temperature: 18.56celcius\n",
      "Weather Description : Clear, clear sky\n",
      "Humidity level: 35g/kg\n",
      "Wind Speed: 4.85m/s\n",
      "None\n",
      "Success!\n",
      "City Name: Abuja\n",
      "Date: 2024-09-12 06:00:00\n",
      "Temperature: 21.76celcius\n",
      "Weather Description : Rain, light rain\n",
      "Humidity level: 98g/kg\n",
      "Wind Speed: 0.99m/s\n",
      "None\n"
     ]
    }
   ],
   "source": [
    "wea.mul_cities_weather_forecast(['Lome', 'Accra', 'Johannesburg', 'Abuja'])"
   ]
  },
  {
   "cell_type": "markdown",
   "metadata": {},
   "source": [
    "## Error Testing"
   ]
  },
  {
   "cell_type": "code",
   "execution_count": 4,
   "metadata": {},
   "outputs": [
    {
     "name": "stdout",
     "output_type": "stream",
     "text": [
      "Resource not found.            Kindly check the spelling of the city name\n"
     ]
    },
    {
     "ename": "KeyError",
     "evalue": "'city'",
     "output_type": "error",
     "traceback": [
      "\u001b[1;31m---------------------------------------------------------------------------\u001b[0m",
      "\u001b[1;31mKeyError\u001b[0m                                  Traceback (most recent call last)",
      "Cell \u001b[1;32mIn[4], line 1\u001b[0m\n\u001b[1;32m----> 1\u001b[0m \u001b[43mwea\u001b[49m\u001b[38;5;241;43m.\u001b[39;49m\u001b[43mmul_cities_weather_forcast\u001b[49m\u001b[43m(\u001b[49m\u001b[43m[\u001b[49m\u001b[38;5;124;43m'\u001b[39;49m\u001b[38;5;124;43mIbarapa\u001b[39;49m\u001b[38;5;124;43m'\u001b[39;49m\u001b[43m]\u001b[49m\u001b[43m)\u001b[49m\n",
      "File \u001b[1;32mc:\\Users\\APIN PC\\OneDrive\\Documents\\DS\\Git Repos\\Data Epic\\victor_arowosegbe\\APIs\\weather_client.py:187\u001b[0m, in \u001b[0;36mmul_cities_weather_forcast\u001b[1;34m(cities)\u001b[0m\n\u001b[0;32m    184\u001b[0m \u001b[38;5;66;03m#Loops through entries in the cities and runs a weather forecast \u001b[39;00m\n\u001b[0;32m    185\u001b[0m \u001b[38;5;66;03m# for the expected attributes per city\u001b[39;00m\n\u001b[0;32m    186\u001b[0m \u001b[38;5;28;01mfor\u001b[39;00m city \u001b[38;5;129;01min\u001b[39;00m cities:\n\u001b[1;32m--> 187\u001b[0m     \u001b[38;5;28mprint\u001b[39m(\u001b[43mweather_forecast\u001b[49m\u001b[43m(\u001b[49m\u001b[43mcity_name\u001b[49m\u001b[38;5;241;43m=\u001b[39;49m\u001b[43mcity\u001b[49m\u001b[43m)\u001b[49m)\n",
      "File \u001b[1;32mc:\\Users\\APIN PC\\OneDrive\\Documents\\DS\\Git Repos\\Data Epic\\victor_arowosegbe\\APIs\\weather_client.py:133\u001b[0m, in \u001b[0;36mweather_forecast\u001b[1;34m(city_name, unit)\u001b[0m\n\u001b[0;32m    126\u001b[0m \u001b[38;5;250m\u001b[39m\u001b[38;5;124;03m\"\"\"\u001b[39;00m\n\u001b[0;32m    127\u001b[0m \u001b[38;5;124;03mExtracting required attributes from the API response\u001b[39;00m\n\u001b[0;32m    128\u001b[0m \u001b[38;5;124;03mand printing them.\u001b[39;00m\n\u001b[0;32m    129\u001b[0m \u001b[38;5;124;03mExtracting the last day of forecast data for preview\u001b[39;00m\n\u001b[0;32m    130\u001b[0m \u001b[38;5;124;03m\"\"\"\u001b[39;00m\n\u001b[0;32m    132\u001b[0m data \u001b[38;5;241m=\u001b[39m response\u001b[38;5;241m.\u001b[39mjson() \u001b[38;5;66;03m#Converts the json file to python dictionary of the forecast data.\u001b[39;00m\n\u001b[1;32m--> 133\u001b[0m city_name \u001b[38;5;241m=\u001b[39m \u001b[43mdata\u001b[49m\u001b[43m[\u001b[49m\u001b[38;5;124;43m'\u001b[39;49m\u001b[38;5;124;43mcity\u001b[39;49m\u001b[38;5;124;43m'\u001b[39;49m\u001b[43m]\u001b[49m[\u001b[38;5;124m'\u001b[39m\u001b[38;5;124mname\u001b[39m\u001b[38;5;124m'\u001b[39m] \u001b[38;5;66;03m#Extracts the name of city from the dictionary\u001b[39;00m\n\u001b[0;32m    134\u001b[0m date \u001b[38;5;241m=\u001b[39m data[\u001b[38;5;124m'\u001b[39m\u001b[38;5;124mlist\u001b[39m\u001b[38;5;124m'\u001b[39m][\u001b[38;5;241m-\u001b[39m\u001b[38;5;241m1\u001b[39m][\u001b[38;5;124m'\u001b[39m\u001b[38;5;124mdt_txt\u001b[39m\u001b[38;5;124m'\u001b[39m] \u001b[38;5;66;03m#Extracts the forecast date (5th day forcast)\u001b[39;00m\n\u001b[0;32m    135\u001b[0m temp \u001b[38;5;241m=\u001b[39m data[\u001b[38;5;124m'\u001b[39m\u001b[38;5;124mlist\u001b[39m\u001b[38;5;124m'\u001b[39m][\u001b[38;5;241m-\u001b[39m\u001b[38;5;241m1\u001b[39m][\u001b[38;5;124m'\u001b[39m\u001b[38;5;124mmain\u001b[39m\u001b[38;5;124m'\u001b[39m][\u001b[38;5;124m'\u001b[39m\u001b[38;5;124mtemp\u001b[39m\u001b[38;5;124m'\u001b[39m] \u001b[38;5;66;03m#Extracts the average temperature of the city in celcius\u001b[39;00m\n",
      "\u001b[1;31mKeyError\u001b[0m: 'city'"
     ]
    }
   ],
   "source": [
    "wea.mul_cities_weather_forcast(['Ibarapa'])"
   ]
  },
  {
   "cell_type": "code",
   "execution_count": 6,
   "metadata": {},
   "outputs": [
    {
     "name": "stdout",
     "output_type": "stream",
     "text": [
      "Success!\n",
      "City Name: Ajegunle\n",
      "Date: 2024-09-12 06:00:00\n",
      "Temperature: 22.26celcius\n",
      "Weather Description : Clouds, broken clouds\n",
      "Humidity level: 94g/kg\n",
      "Wind Speed: 1.5m/s\n"
     ]
    }
   ],
   "source": [
    "wea.weather_forecast('Ajegunle')"
   ]
  }
 ],
 "metadata": {
  "kernelspec": {
   "display_name": "base",
   "language": "python",
   "name": "python3"
  },
  "language_info": {
   "codemirror_mode": {
    "name": "ipython",
    "version": 3
   },
   "file_extension": ".py",
   "mimetype": "text/x-python",
   "name": "python",
   "nbconvert_exporter": "python",
   "pygments_lexer": "ipython3",
   "version": "3.11.5"
  }
 },
 "nbformat": 4,
 "nbformat_minor": 2
}
